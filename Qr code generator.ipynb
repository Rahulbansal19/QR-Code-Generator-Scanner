{
 "cells": [
  {
   "cell_type": "code",
   "execution_count": 1,
   "id": "fc03afd3",
   "metadata": {},
   "outputs": [],
   "source": [
    "import qrcode"
   ]
  },
  {
   "cell_type": "code",
   "execution_count": 2,
   "id": "193c796e",
   "metadata": {},
   "outputs": [],
   "source": [
    "# Create QR code instance\n",
    "qr = qrcode.QRCode(version=5, box_size=10, border=3)\n",
    "\n",
    "# Add data to the QR code\n",
    "data = \"https://Youtube.com\"\n",
    "qr.add_data(data)\n",
    "\n",
    "# Generate QR code image\n",
    "qr.make(fit=True)\n",
    "img = qr.make_image(fill_color=\"white\", back_color=\"black\")\n",
    "\n",
    "# Save image file\n",
    "img.save(\"e6.png\")"
   ]
  },
  {
   "cell_type": "code",
   "execution_count": null,
   "id": "5e110850",
   "metadata": {},
   "outputs": [],
   "source": []
  }
 ],
 "metadata": {
  "kernelspec": {
   "display_name": "Python 3 (ipykernel)",
   "language": "python",
   "name": "python3"
  },
  "language_info": {
   "codemirror_mode": {
    "name": "ipython",
    "version": 3
   },
   "file_extension": ".py",
   "mimetype": "text/x-python",
   "name": "python",
   "nbconvert_exporter": "python",
   "pygments_lexer": "ipython3",
   "version": "3.11.2"
  }
 },
 "nbformat": 4,
 "nbformat_minor": 5
}
